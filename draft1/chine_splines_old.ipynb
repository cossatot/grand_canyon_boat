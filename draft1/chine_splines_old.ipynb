{
 "cells": [
  {
   "cell_type": "code",
   "execution_count": 1,
   "metadata": {},
   "outputs": [],
   "source": [
    "import matplotlib.pyplot as plt"
   ]
  },
  {
   "cell_type": "code",
   "execution_count": 2,
   "metadata": {},
   "outputs": [
    {
     "name": "stderr",
     "output_type": "stream",
     "text": [
      "/Users/itchy/src/miniconda/lib/python3.6/site-packages/pandas/core/generic.py:3643: SettingWithCopyWarning: \n",
      "A value is trying to be set on a copy of a slice from a DataFrame.\n",
      "Try using .loc[row_indexer,col_indexer] = value instead\n",
      "\n",
      "See the caveats in the documentation: http://pandas.pydata.org/pandas-docs/stable/indexing.html#indexing-view-versus-copy\n",
      "  self[name] = value\n",
      "../../../boatbuilding/panels.py:35: SettingWithCopyWarning: \n",
      "A value is trying to be set on a copy of a slice from a DataFrame.\n",
      "Try using .loc[row_indexer,col_indexer] = value instead\n",
      "\n",
      "See the caveats in the documentation: http://pandas.pydata.org/pandas-docs/stable/indexing.html#indexing-view-versus-copy\n",
      "  ldf['pt'] = [r_to_l(p) for p in ldf.pt]\n",
      "../../../boatbuilding/panels.py:36: SettingWithCopyWarning: \n",
      "A value is trying to be set on a copy of a slice from a DataFrame.\n",
      "Try using .loc[row_indexer,col_indexer] = value instead\n",
      "\n",
      "See the caveats in the documentation: http://pandas.pydata.org/pandas-docs/stable/indexing.html#indexing-view-versus-copy\n",
      "  ldf['chine'] = [r_to_l(chine) for chine in ldf.chine]\n"
     ]
    }
   ],
   "source": [
    "import pandas as pd\n",
    "import numpy as np\n",
    "#import matplotlib.pyplot as plt\n",
    "from copy import deepcopy\n",
    "import json\n",
    "from ast import literal_eval\n",
    "from scipy.interpolate import splprep, splev\n",
    "\n",
    "import sys; sys.path.append('../../../')\n",
    "from boatbuilding.panels import *\n",
    "\n",
    "offsets = pd.read_excel('gc_draft_1_offsets.xlsx', sheet_name='points')\n",
    "\n",
    "offsets['x'] = np.float_(offsets.x)\n",
    "offsets['y'] = np.float_(offsets.y)\n",
    "offsets['z'] = np.float_(offsets.z)\n",
    "\n",
    "offsets['y'] *= 0.9\n",
    "offsets['x'] *= 1.1\n",
    "\n",
    "offsets['x'] -= offsets.x.min()\n",
    "\n",
    "offsets['chine'].fillna('', inplace=True)\n",
    "\n",
    "offsets['chine'] = offsets.apply(parse_chines, axis=1)\n",
    "\n",
    "left_offsets = make_sym_offsets(offsets)\n",
    "\n",
    "offsets = pd.concat((offsets, left_offsets), ignore_index=True)\n",
    "\n",
    "for i, row in offsets.iterrows():\n",
    "    if row.pt[-1] == 'c':\n",
    "        if isinstance(row.chine, list):\n",
    "            for c in row.chine:\n",
    "                if c[-1] == 'r':\n",
    "                    offsets.loc[i, 'chine'].append(r_to_l(c))\n",
    "\n",
    "\n",
    "chine_list = []\n",
    "for ch in offsets.chine:\n",
    "    if isinstance(ch, str):\n",
    "        if ch not in chine_list:\n",
    "            chine_list.append(ch)\n",
    "    elif isinstance(ch, list):\n",
    "        for c in ch:\n",
    "            if c not in chine_list:\n",
    "                chine_list.append(c)\n",
    "\n",
    "chine_dfs = {}\n",
    "for ch in chine_list:\n",
    "    chine_dfs[ch] = pd.DataFrame(columns=['x', 'y', 'z'],\n",
    "                                 dtype=float)\n",
    "    cd = chine_dfs[ch]\n",
    "    for i, row in offsets.iterrows():\n",
    "        if ch in row.chine:\n",
    "            cd.loc[row.pt, :] = np.float_((row.x, row.y, row.z))\n",
    "    cd.sort_values('x', inplace=True)"
   ]
  },
  {
   "cell_type": "code",
   "execution_count": 6,
   "metadata": {},
   "outputs": [
    {
     "data": {
      "text/plain": [
       "{'x': array([197.99270622, 202.77888545, 207.56206815, 212.34216807,\n",
       "        217.11909896, 221.89277458, 226.66310868, 231.430015  ,\n",
       "        236.19340731, 240.95319936, 245.7093049 , 250.46163768,\n",
       "        255.21011145, 259.95463997, 264.69513699, 269.43151627,\n",
       "        274.16369155, 278.89157659, 283.61508514, 288.33413095,\n",
       "        293.04862778, 297.75849076, 302.46391336, 307.16570392,\n",
       "        311.864753  , 316.56195117, 321.25817519, 325.95387998,\n",
       "        330.64903106, 335.34356656, 340.03742459, 344.73054326,\n",
       "        349.42286069, 354.11431499, 358.80484427, 363.49438666,\n",
       "        368.18288025, 372.87026318, 377.55647355, 382.24144947,\n",
       "        386.92512907, 391.60745045, 396.28835174, 400.96777104,\n",
       "        405.64564646, 410.32191613, 414.99651816, 419.66939066,\n",
       "        424.34047174, 429.00969953]),\n",
       " 'y': array([20.20347449, 20.44636456, 20.65092249, 20.81676698, 20.94351673,\n",
       "        21.03079045, 21.07820684, 21.08538461, 21.05194245, 20.97749908,\n",
       "        20.86167319, 20.70408348, 20.50434866, 20.26208744, 19.97691851,\n",
       "        19.64846058, 19.27633235, 18.86015253, 18.39953981, 17.89411291,\n",
       "        17.34349052, 16.74730156, 16.10724451, 15.42958916, 14.72121677,\n",
       "        13.98900857, 13.2397978 , 12.47895134, 11.71013488, 10.93691878,\n",
       "        10.16287345,  9.39156925,  8.62657658,  7.8714658 ,  7.12980732,\n",
       "         6.4051715 ,  5.70112873,  5.02124939,  4.36910387,  3.74826255,\n",
       "         3.16229581,  2.61477402,  2.10926758,  1.64934687,  1.23858227,\n",
       "         0.88054415,  0.57880291,  0.33692892,  0.15849258,  0.04706425]),\n",
       " 'z': array([ 6.89190484e-03,  3.44035930e-02,  5.10979360e-02,  5.84051431e-02,\n",
       "         5.77554237e-02,  5.05789870e-02,  3.83060426e-02,  2.23667996e-02,\n",
       "         4.19146753e-03, -1.47897444e-02, -3.31466268e-02, -4.94489703e-02,\n",
       "        -6.22665656e-02, -7.01692033e-02, -7.17266741e-02, -6.55087686e-02,\n",
       "        -5.00852776e-02, -2.40259916e-02,  1.40992986e-02,  6.57208025e-02,\n",
       "         1.32268729e-01,  2.15172068e-01,  3.15612538e-01,  4.34225679e-01,\n",
       "         5.71573974e-01,  7.28219908e-01,  9.04741164e-01,  1.10217961e+00,\n",
       "         1.32211566e+00,  1.56615988e+00,  1.83592284e+00,  2.13301512e+00,\n",
       "         2.45904729e+00,  2.81562991e+00,  3.20437357e+00,  3.62688883e+00,\n",
       "         4.08478627e+00,  4.57967646e+00,  5.11316998e+00,  5.68687739e+00,\n",
       "         6.30240926e+00,  6.96137618e+00,  7.66538871e+00,  8.41605742e+00,\n",
       "         9.21499289e+00,  1.00638057e+01,  1.09641064e+01,  1.19175056e+01,\n",
       "         1.29256138e+01,  1.39900416e+01])}"
      ]
     },
     "execution_count": 6,
     "metadata": {},
     "output_type": "execute_result"
    }
   ],
   "source": [
    "chine_splines['c1r']"
   ]
  },
  {
   "cell_type": "code",
   "execution_count": 29,
   "metadata": {},
   "outputs": [],
   "source": [
    "chine_splines = {}\n",
    "\n",
    "for ch, cdf in chine_dfs.items():\n",
    "    if len(cdf) > 3:\n",
    "        tck, u = splprep([cdf.x, cdf.y, cdf.z], s=0.1)\n",
    "        new_x, new_y, new_z = splev(np.linspace(0,1), tck)\n",
    "\n",
    "        chine_splines[ch] = {'x': new_x,\n",
    "                             'y': new_y,\n",
    "                             'z': new_z}\n",
    "    else:\n",
    "        tck, u = splprep([cdf.x, cdf.y, cdf.z], k=2, s=0.1)\n",
    "        new_x, new_y, new_z = splev(np.linspace(0,1), tck)\n",
    "\n",
    "        chine_splines[ch] = {'x': new_x,\n",
    "                             'y': new_y,\n",
    "                             'z': new_z}"
   ]
  },
  {
   "cell_type": "code",
   "execution_count": 38,
   "metadata": {},
   "outputs": [],
   "source": [
    "sys.path.append('../../../../programs/tspline_python/')\n",
    "import spline1d as sp\n"
   ]
  },
  {
   "cell_type": "code",
   "execution_count": 49,
   "metadata": {},
   "outputs": [],
   "source": [
    "from importlib import reload"
   ]
  },
  {
   "cell_type": "code",
   "execution_count": 50,
   "metadata": {},
   "outputs": [
    {
     "data": {
      "text/plain": [
       "<module 'spline1d' from '../../../../programs/tspline_python/spline1d.py'>"
      ]
     },
     "execution_count": 50,
     "metadata": {},
     "output_type": "execute_result"
    }
   ],
   "source": [
    "reload(sp)"
   ]
  },
  {
   "cell_type": "code",
   "execution_count": 51,
   "metadata": {},
   "outputs": [
    {
     "ename": "IndexError",
     "evalue": "too many indices for array",
     "output_type": "error",
     "traceback": [
      "\u001b[0;31m---------------------------------------------------------------------------\u001b[0m",
      "\u001b[0;31mIndexError\u001b[0m                                Traceback (most recent call last)",
      "\u001b[0;32m<ipython-input-51-0b1cc7e40499>\u001b[0m in \u001b[0;36m<module>\u001b[0;34m()\u001b[0m\n\u001b[1;32m      1\u001b[0m sp.spline1d(np.linspace(chine_dfs['c1r'].x.min(), chine_dfs['c1r'].x.max()),\n\u001b[0;32m----> 2\u001b[0;31m          x_data=chine_dfs['c1r'].x, y_data=chine_dfs['c1r'].y, t=0.)\n\u001b[0m",
      "\u001b[0;32m/mnt/c/Users/itchy/programs/tspline_python/spline1d.py\u001b[0m in \u001b[0;36mspline1d\u001b[0;34m(x_out, x_data, y_data, x_slope, y_slope, t, length_scale, cutoff, return_eigs, return_A)\u001b[0m\n\u001b[1;32m     50\u001b[0m     \u001b[0mA\u001b[0m \u001b[0;34m=\u001b[0m \u001b[0m_build_linear_system\u001b[0m\u001b[0;34m(\u001b[0m\u001b[0mxp\u001b[0m\u001b[0;34m,\u001b[0m \u001b[0mn0\u001b[0m\u001b[0;34m,\u001b[0m \u001b[0mn1\u001b[0m\u001b[0;34m,\u001b[0m \u001b[0mt\u001b[0m\u001b[0;34m,\u001b[0m \u001b[0mp\u001b[0m\u001b[0;34m)\u001b[0m\u001b[0;34m\u001b[0m\u001b[0m\n\u001b[1;32m     51\u001b[0m     \u001b[0malpha\u001b[0m\u001b[0;34m,\u001b[0m \u001b[0ml\u001b[0m \u001b[0;34m=\u001b[0m \u001b[0m_solve_system\u001b[0m\u001b[0;34m(\u001b[0m\u001b[0mA\u001b[0m\u001b[0;34m,\u001b[0m \u001b[0myp\u001b[0m\u001b[0;34m,\u001b[0m \u001b[0mcutoff\u001b[0m\u001b[0;34m)\u001b[0m\u001b[0;34m\u001b[0m\u001b[0m\n\u001b[0;32m---> 52\u001b[0;31m     \u001b[0my\u001b[0m \u001b[0;34m=\u001b[0m \u001b[0m_eval_splines_at_x\u001b[0m\u001b[0;34m(\u001b[0m\u001b[0mx_out\u001b[0m\u001b[0;34m,\u001b[0m \u001b[0malpha\u001b[0m\u001b[0;34m,\u001b[0m \u001b[0mxp\u001b[0m\u001b[0;34m,\u001b[0m \u001b[0mt\u001b[0m\u001b[0;34m,\u001b[0m \u001b[0mn\u001b[0m\u001b[0;34m)\u001b[0m\u001b[0;34m\u001b[0m\u001b[0m\n\u001b[0m\u001b[1;32m     53\u001b[0m \u001b[0;34m\u001b[0m\u001b[0m\n\u001b[1;32m     54\u001b[0m     \u001b[0;32mif\u001b[0m \u001b[0mreturn_eigs\u001b[0m \u001b[0;32mis\u001b[0m \u001b[0;32mFalse\u001b[0m \u001b[0;32mand\u001b[0m \u001b[0mreturn_A\u001b[0m \u001b[0;32mis\u001b[0m \u001b[0;32mFalse\u001b[0m\u001b[0;34m:\u001b[0m\u001b[0;34m\u001b[0m\u001b[0m\n",
      "\u001b[0;32m/mnt/c/Users/itchy/programs/tspline_python/spline1d.py\u001b[0m in \u001b[0;36m_eval_splines_at_x\u001b[0;34m(x_out, alpha, xp, t, n)\u001b[0m\n\u001b[1;32m    123\u001b[0m         \u001b[0mar\u001b[0m \u001b[0;34m=\u001b[0m \u001b[0mnp\u001b[0m\u001b[0;34m.\u001b[0m\u001b[0mabs\u001b[0m\u001b[0;34m(\u001b[0m\u001b[0mr\u001b[0m\u001b[0;34m)\u001b[0m\u001b[0;34m\u001b[0m\u001b[0m\n\u001b[1;32m    124\u001b[0m         \u001b[0;32mif\u001b[0m \u001b[0mt\u001b[0m \u001b[0;34m==\u001b[0m \u001b[0;36m0.\u001b[0m\u001b[0;34m:\u001b[0m\u001b[0;34m\u001b[0m\u001b[0m\n\u001b[0;32m--> 125\u001b[0;31m             \u001b[0my\u001b[0m \u001b[0;34m+=\u001b[0m \u001b[0;34m(\u001b[0m\u001b[0mar\u001b[0m\u001b[0;34m**\u001b[0m\u001b[0;36m3\u001b[0m\u001b[0;34m)\u001b[0m \u001b[0;34m*\u001b[0m \u001b[0malpha\u001b[0m\u001b[0;34m[\u001b[0m\u001b[0mi\u001b[0m\u001b[0;34m,\u001b[0m\u001b[0;34m:\u001b[0m\u001b[0;34m]\u001b[0m\u001b[0;34m\u001b[0m\u001b[0m\n\u001b[0m\u001b[1;32m    126\u001b[0m         \u001b[0;32melif\u001b[0m \u001b[0mt\u001b[0m \u001b[0;34m==\u001b[0m \u001b[0;36m1.\u001b[0m\u001b[0;34m:\u001b[0m\u001b[0;34m\u001b[0m\u001b[0m\n\u001b[1;32m    127\u001b[0m             \u001b[0my\u001b[0m \u001b[0;34m+=\u001b[0m \u001b[0mar\u001b[0m \u001b[0;34m*\u001b[0m \u001b[0malpha\u001b[0m\u001b[0;34m[\u001b[0m\u001b[0mi\u001b[0m\u001b[0;34m,\u001b[0m\u001b[0;34m:\u001b[0m\u001b[0;34m]\u001b[0m\u001b[0;34m\u001b[0m\u001b[0m\n",
      "\u001b[0;31mIndexError\u001b[0m: too many indices for array"
     ]
    }
   ],
   "source": [
    "sp.spline1d(np.linspace(chine_dfs['c1r'].x.min(), chine_dfs['c1r'].x.max()),\n",
    "         x_data=chine_dfs['c1r'].x, y_data=chine_dfs['c1r'].y, t=0.)"
   ]
  },
  {
   "cell_type": "code",
   "execution_count": 30,
   "metadata": {},
   "outputs": [
    {
     "data": {
      "text/plain": [
       "[<matplotlib.lines.Line2D at 0x7f8977bc11d0>]"
      ]
     },
     "execution_count": 30,
     "metadata": {},
     "output_type": "execute_result"
    },
    {
     "data": {
      "image/png": "[encoded data removed]",
      "text/plain": [
       "<Figure size 1080x576 with 1 Axes>"
      ]
     },
     "metadata": {},
     "output_type": "display_data"
    }
   ],
   "source": [
    "plt.figure(figsize=(15,8))\n",
    "\n",
    "plt.plot(chine_dfs['c1r'].x, chine_dfs['c1r'].y, 'o')\n",
    "plt.plot(chine_splines['c1r']['x'], chine_splines['c1r']['y'])"
   ]
  },
  {
   "cell_type": "code",
   "execution_count": null,
   "metadata": {},
   "outputs": [],
   "source": [
    "np.linalg.svd()"
   ]
  }
 ],
 "metadata": {
  "kernelspec": {
   "display_name": "Python 3",
   "language": "python",
   "name": "python3"
  },
  "language_info": {
   "codemirror_mode": {
    "name": "ipython",
    "version": 3
   },
   "file_extension": ".py",
   "mimetype": "text/x-python",
   "name": "python",
   "nbconvert_exporter": "python",
   "pygments_lexer": "ipython3",
   "version": "3.6.7"
  }
 },
 "nbformat": 4,
 "nbformat_minor": 2
}
