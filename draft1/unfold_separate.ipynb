{
 "cells": [
  {
   "cell_type": "code",
   "execution_count": 1,
   "metadata": {},
   "outputs": [],
   "source": [
    "import numpy as np\n",
    "import pandas as pd\n",
    "from copy import deepcopy"
   ]
  },
  {
   "cell_type": "code",
   "execution_count": 2,
   "metadata": {},
   "outputs": [],
   "source": [
    "import matplotlib.pyplot as plt"
   ]
  },
  {
   "cell_type": "code",
   "execution_count": 3,
   "metadata": {},
   "outputs": [],
   "source": [
    "def parse_chines(row):\n",
    "    if row.chine[0] == '(':\n",
    "        chine_list = row.chine[1:-1].split(',')\n",
    "    else:\n",
    "        chine_list = row.chine\n",
    "\n",
    "    return chine_list\n",
    "\n",
    "\n",
    "def r_to_l(val):\n",
    "    def replace_l(s):\n",
    "        return s[:-1] + 'l'\n",
    "    if isinstance(val, str):\n",
    "        if val[-1] == 'r':\n",
    "            return replace_l(val)\n",
    "    elif isinstance(val, list):\n",
    "        vv = deepcopy(val)\n",
    "        for i, v in enumerate(vv):\n",
    "            if v[-1] == 'r':\n",
    "                vv[i] = replace_l(v)\n",
    "        return vv\n",
    "\n",
    "\n",
    "def make_sym_offsets(df):\n",
    "\n",
    "    ldf = df[df.y != 0]\n",
    "\n",
    "    ldf.y *= -1\n",
    "    ldf['pt'] = [r_to_l(p) for p in ldf.pt]\n",
    "    ldf['chine'] = [r_to_l(chine) for chine in ldf.chine]\n",
    "    return ldf"
   ]
  },
  {
   "cell_type": "code",
   "execution_count": 4,
   "metadata": {},
   "outputs": [],
   "source": [
    "def make_sym_panel(pan):\n",
    "    pan_c = deepcopy(pan)\n",
    "    for station, ends in pan_c.items():\n",
    "        for end, point in ends.items():\n",
    "            if point[-1] == 'r':\n",
    "                pan_c[station][end] = r_to_l(point)\n",
    "    return pan_c"
   ]
  },
  {
   "cell_type": "code",
   "execution_count": 5,
   "metadata": {},
   "outputs": [],
   "source": [
    "def make_sym_panels(panels):\n",
    "    new_panels = {}\n",
    "    for k, v in panels.items():\n",
    "        if k[-1] == 'r':\n",
    "            new_panels[r_to_l(k)] = make_sym_panel(v)\n",
    "    return new_panels"
   ]
  },
  {
   "cell_type": "code",
   "execution_count": 6,
   "metadata": {},
   "outputs": [],
   "source": [
    "def make_section_tris(pa, pb, point_df):\n",
    "    point_list = list(pa.values()) + list(pb.values())\n",
    "\n",
    "    coord_list = [point_df.loc[(point_df.pt == p), ['x', 'y', 'z']].values[0]\n",
    "                  for p in point_list]\n",
    "\n",
    "    coord_list = np.array(coord_list)\n",
    "\n",
    "    if len(point_list) == 3:\n",
    "        tri_list = [[0,1,2]]\n",
    "    elif len(point_list) == 4:\n",
    "        tri_list = [[0,2,1],\n",
    "                    [1,3,2]]\n",
    "\n",
    "    return coord_list, tri_list"
   ]
  },
  {
   "cell_type": "code",
   "execution_count": 7,
   "metadata": {},
   "outputs": [],
   "source": [
    "def make_panel_tris(panel, point_df):\n",
    "    ks = sorted(panel.keys())\n",
    "\n",
    "    tri_tups = [make_section_tris(panel[k], panel[ks[i+1]], point_df)  \n",
    "                for i, k in enumerate(ks[:-1])]\n",
    "    \n",
    "    tri_coords = np.vstack([t[0] for t in tri_tups])\n",
    "\n",
    "    tri_list = []\n",
    "    tri_line_counter = 0\n",
    "    for t in tri_tups:\n",
    "        tl = np.array(t[1])\n",
    "        tl += tri_line_counter\n",
    "        tri_list.append(tl)\n",
    "\n",
    "        tri_line_counter += len(t[0])\n",
    "\n",
    "    tri_list = np.vstack(tri_list)\n",
    "\n",
    "    return tri_coords, tri_list"
   ]
  },
  {
   "cell_type": "code",
   "execution_count": 8,
   "metadata": {},
   "outputs": [],
   "source": [
    "offsets = pd.read_excel('gc_draft_1_offsets.xlsx', sheet_name='points')\n",
    "\n",
    "offsets['x'] = np.float_(offsets.x)\n",
    "offsets['y'] = np.float_(offsets.y)\n",
    "offsets['z'] = np.float_(offsets.z)"
   ]
  },
  {
   "cell_type": "code",
   "execution_count": 9,
   "metadata": {},
   "outputs": [
    {
     "name": "stderr",
     "output_type": "stream",
     "text": [
      "/Users/itchy/src/miniconda/lib/python3.6/site-packages/pandas/core/generic.py:3643: SettingWithCopyWarning: \n",
      "A value is trying to be set on a copy of a slice from a DataFrame.\n",
      "Try using .loc[row_indexer,col_indexer] = value instead\n",
      "\n",
      "See the caveats in the documentation: http://pandas.pydata.org/pandas-docs/stable/indexing.html#indexing-view-versus-copy\n",
      "  self[name] = value\n",
      "/Users/itchy/src/miniconda/lib/python3.6/site-packages/ipykernel_launcher.py:29: SettingWithCopyWarning: \n",
      "A value is trying to be set on a copy of a slice from a DataFrame.\n",
      "Try using .loc[row_indexer,col_indexer] = value instead\n",
      "\n",
      "See the caveats in the documentation: http://pandas.pydata.org/pandas-docs/stable/indexing.html#indexing-view-versus-copy\n",
      "/Users/itchy/src/miniconda/lib/python3.6/site-packages/ipykernel_launcher.py:30: SettingWithCopyWarning: \n",
      "A value is trying to be set on a copy of a slice from a DataFrame.\n",
      "Try using .loc[row_indexer,col_indexer] = value instead\n",
      "\n",
      "See the caveats in the documentation: http://pandas.pydata.org/pandas-docs/stable/indexing.html#indexing-view-versus-copy\n"
     ]
    }
   ],
   "source": [
    "left_offsets = make_sym_offsets(offsets)\n",
    "\n",
    "offsets = pd.concat((offsets, left_offsets), ignore_index=True)\n",
    "\n",
    "for i, row in offsets.iterrows():\n",
    "    if row.pt[-1] == 'c':\n",
    "        if isinstance(row.chine, list):\n",
    "            for c in row.chine:\n",
    "                if c[-1] == 'r':\n",
    "                    offsets.loc[i, 'chine'].append(r_to_l(c))\n",
    "\n",
    "\n",
    "chine_list = []\n",
    "for ch in offsets.chine:\n",
    "    if isinstance(ch, str):\n",
    "        if ch not in chine_list:\n",
    "            chine_list.append(ch)\n",
    "    elif isinstance(ch, list):\n",
    "        for c in ch:\n",
    "            if c not in chine_list:\n",
    "                chine_list.append(c)"
   ]
  },
  {
   "cell_type": "code",
   "execution_count": 10,
   "metadata": {},
   "outputs": [],
   "source": [
    "def simplify_panel_tris(tri_coords, tri_list):\n",
    "    new_tri_list = deepcopy(tri_list)\n",
    "    unique_pts = []\n",
    "    dup_d = {}\n",
    "\n",
    "    for i, row in enumerate(tri_coords):\n",
    "        dup_d[i] = []\n",
    "        _row = tuple(row)\n",
    "        if _row not in unique_pts:\n",
    "            unique_pts.append(_row)\n",
    "            new_tri_list[new_tri_list == i] = len(unique_pts) - 1\n",
    "        else:\n",
    "            prev_row = unique_pts.index(_row)\n",
    "            new_tri_list[new_tri_list == i] = prev_row\n",
    "            dup_d[i].append(prev_row)\n",
    "            #n_adjust = len([new_tri_list.flatten() == prev_row])\n",
    "            #new_tri_list[new_tri_list > i] -= n_adjust\n",
    "    \n",
    "    unique_inds = np.unique(new_tri_list)\n",
    "    for i, ui in enumerate(unique_inds):\n",
    "        new_tri_list[new_tri_list==ui] = i\n",
    "            \n",
    "    return np.array(unique_pts), new_tri_list, dup_d"
   ]
  },
  {
   "cell_type": "code",
   "execution_count": 11,
   "metadata": {},
   "outputs": [],
   "source": [
    "panels = {\n",
    "    'p0': {\n",
    "        1: {'a': '1l',\n",
    "            'b': '1r'},\n",
    "        2: {'a': '6l',\n",
    "            'b': '6r'},\n",
    "        3: {'a': '11l',\n",
    "            'b': '11r'},\n",
    "        4: {'a': '16l',\n",
    "            'b': '16r'},\n",
    "        5: {'c': '20c'},\n",
    "        0: {'a': '28l',\n",
    "            'b': '28r'},\n",
    "        -1:{'a': '32l',\n",
    "            'b': '32r'},\n",
    "        -2:{'a': '36l',\n",
    "            'b': '36r'},\n",
    "        -5:{'a': '40l',\n",
    "            'b': '40r'},\n",
    "        -6:{'a': '45l',\n",
    "            'b': '45r'},\n",
    "       -6.5:{'a': '48l',\n",
    "             'b': '48r'},\n",
    "    },\n",
    "    'p1r': {\n",
    "        1: {'a': '1r',\n",
    "            'b': '2r'},\n",
    "        2: {'a': '6r',\n",
    "            'b': '7r'},\n",
    "        3: {'a': '12r',\n",
    "            'b': '13r'},\n",
    "        4: {'a': '17r',\n",
    "            'b': '18r'},\n",
    "        5: {'a': '21r',\n",
    "            'b': '22r'},\n",
    "        6: {'a': '24c',\n",
    "            'b': '25r'},\n",
    "        7: {'p': '27c'},\n",
    "        0: {'a': '28r',\n",
    "            'b': '29r'},\n",
    "        -1:{'a': '32r',\n",
    "            'b': '33r'},\n",
    "        -2:{'a': '36r',\n",
    "            'b': '37r'},\n",
    "        -5:{'a': '41r',\n",
    "            'b': '42r'},\n",
    "        -6:{'a': '45r',\n",
    "            'b': '46r'},\n",
    "       -6.5:{'c': '49r'}\n",
    "    },\n",
    "    'p2r': {\n",
    "        1: {'a': '2r',\n",
    "            'b': '3r'},\n",
    "        2: {'a': '7r',\n",
    "            'b': '8r'},\n",
    "        3: {'a': '13r',\n",
    "            'b': '14r'},\n",
    "        4: {'c': '18r'},\n",
    "        0: {'a': '29r',\n",
    "            'b': '30r'},\n",
    "        -1:{'a': '33r',\n",
    "            'b': '34r'},\n",
    "        -2:{'a': '37r',\n",
    "            'b': '38r'},\n",
    "        -5:{'a': '42r',\n",
    "            'b': '43r'},\n",
    "        -6:{'c': '46r'}\n",
    "    },\n",
    "    'p3r': {\n",
    "        0: {'c': '30r'},\n",
    "        1: {'a': '3r',\n",
    "            'b': '4r'},\n",
    "        2: {'a': '8r',\n",
    "            'b': '9r'},\n",
    "        3: {'c': '14r'}\n",
    "    },\n",
    "    'p4r': {\n",
    "        0: {'c': '30r'},\n",
    "        1: {'a': '4r',\n",
    "            'b': '5c'},\n",
    "        2: {'a': '9r',\n",
    "            'b': '10c'},\n",
    "        3: {'a': '14r',\n",
    "            'b': '15c'},\n",
    "        4: {'a': '18r',\n",
    "            'b': '19c'},\n",
    "        5: {'a': '22r',\n",
    "            'b': '23c'},\n",
    "        6: {'a': '25r',\n",
    "            'b': '26c'},\n",
    "        7: {'c': '27c'}\n",
    "    },\n",
    "    'p5r': {\n",
    "        2: {'c': '6r'},\n",
    "        3: {'a': '11r',\n",
    "            'b': '12r'},\n",
    "        4: {'a': '16r',\n",
    "            'b': '17r'},\n",
    "        5: {'a': '20c',\n",
    "            'b': '21r'},\n",
    "        6: {'c': '24c'}\n",
    "    },\n",
    "    'p6r': {\n",
    "        0: {'c': '30r'},\n",
    "        -1:{'a': '34r',\n",
    "            'b': '35c'},\n",
    "        -2:{'a': '38r',\n",
    "            'b': '39c'},\n",
    "        -5:{'a': '43r',\n",
    "            'b': '44c'},\n",
    "        -6:{'a': '46r',\n",
    "            'b': '47c'},\n",
    "      -6.5:{'a': '49r',\n",
    "            'b': '50c'},\n",
    "        -7:{'a': '51r',\n",
    "            'b': '52c'}\n",
    "    },\n",
    "    'p7r': {\n",
    "        -2:{'c': '36r'},\n",
    "        -5:{'a': '40r',\n",
    "            'b': '41r'},\n",
    "        -6:{'c': '45r'}\n",
    "    }\n",
    "}"
   ]
  },
  {
   "cell_type": "code",
   "execution_count": 12,
   "metadata": {},
   "outputs": [],
   "source": [
    "panels.update(make_sym_panels(panels))"
   ]
  },
  {
   "cell_type": "code",
   "execution_count": 13,
   "metadata": {},
   "outputs": [],
   "source": [
    "ptc, ptl = make_panel_tris(panels['p0'], offsets)"
   ]
  },
  {
   "cell_type": "code",
   "execution_count": 14,
   "metadata": {},
   "outputs": [],
   "source": [
    "stc, stl, dup_d = simplify_panel_tris(ptc, ptl)"
   ]
  },
  {
   "cell_type": "code",
   "execution_count": 15,
   "metadata": {},
   "outputs": [
    {
     "data": {
      "text/plain": [
       "array([[ 0,  2,  1],\n",
       "       [ 1,  3,  2],\n",
       "       [ 2,  4,  3],\n",
       "       [ 3,  5,  4],\n",
       "       [ 4,  6,  5],\n",
       "       [ 5,  7,  6],\n",
       "       [ 6,  8,  7],\n",
       "       [ 7,  9,  8],\n",
       "       [ 8, 10,  9],\n",
       "       [ 9, 11, 10],\n",
       "       [10, 12, 11],\n",
       "       [11, 13, 12],\n",
       "       [12, 14, 13],\n",
       "       [13, 15, 14],\n",
       "       [14, 16, 15],\n",
       "       [15, 17, 16],\n",
       "       [16, 18, 17],\n",
       "       [17, 19, 18],\n",
       "       [18, 19, 20]])"
      ]
     },
     "execution_count": 15,
     "metadata": {},
     "output_type": "execute_result"
    }
   ],
   "source": [
    "stl"
   ]
  },
  {
   "cell_type": "code",
   "execution_count": 16,
   "metadata": {},
   "outputs": [
    {
     "data": {
      "text/plain": [
       "((19, 3), (19, 3))"
      ]
     },
     "execution_count": 16,
     "metadata": {},
     "output_type": "execute_result"
    }
   ],
   "source": [
    "ptl.shape, stl.shape"
   ]
  },
  {
   "cell_type": "code",
   "execution_count": 17,
   "metadata": {},
   "outputs": [],
   "source": [
    "def v_norm(v):\n",
    "    va = np.array(v)\n",
    "    if va[-1] < 0:\n",
    "        va *= -1\n",
    "    return va.T / np.sqrt(np.sum(va**2))\n",
    "\n",
    "def get_normal(tri_coords):\n",
    "    return v_norm(np.cross(tri_coords[0] - tri_coords[-1], \n",
    "                           tri_coords[1] - tri_coords[-1]))\n",
    "\n",
    "\n",
    "def make_rot_matrix_from_normal(norm_vec):\n",
    "    \"\"\" from https://math.stackexchange.com/questions/1956699/\n",
    "        getting-a-transformation-matrix-from-a-normal-vector\"\"\"\n",
    "    \n",
    "    if np.all(np.abs(norm_vec) == np.array([0,0,1])):\n",
    "        return np.eye(3)\n",
    "    \n",
    "    else:\n",
    "        nx, ny, nz = norm_vec\n",
    "        \n",
    "        denom = np.sqrt(nx**2 + ny**2)\n",
    "        \n",
    "        l1 = [ny / denom, \n",
    "              -nx / denom, \n",
    "              0.]\n",
    "        \n",
    "        l2 = [nx*nz / denom, \n",
    "              ny*nz / denom,\n",
    "              -denom]\n",
    "        \n",
    "        l3 = [nx, ny, nz]\n",
    "        \n",
    "        return np.array([l1, l2, l3])"
   ]
  },
  {
   "cell_type": "code",
   "execution_count": 18,
   "metadata": {},
   "outputs": [],
   "source": [
    "def rotate_points(points, hinge_pt=np.array([0,0,0]), \n",
    "                  add_hinge_back=True):\n",
    "    \n",
    "    #points = points - hinge_pt\n",
    "    hinge_pt = np.mean(points, axis=0)\n",
    "    trans_points = points - hinge_pt\n",
    "    #print(trans_points)\n",
    "    \n",
    "    norm_vec = get_normal(trans_points)\n",
    "    \n",
    "    R = make_rot_matrix_from_normal(norm_vec)\n",
    "    \n",
    "    rot_points = trans_points @ R.T\n",
    "    \n",
    "    if add_hinge_back:\n",
    "        rot_points += hinge_pt\n",
    "        \n",
    "    return rot_points"
   ]
  },
  {
   "cell_type": "code",
   "execution_count": 19,
   "metadata": {},
   "outputs": [],
   "source": [
    "rotated_tris = {}\n",
    "\n",
    "for i, tri in enumerate(stl):\n",
    "    tri_coords = stc[tri]\n",
    "    try:\n",
    "        rotated_tris[i] = rotate_points(tri_coords,\n",
    "                                    #hinge_pt=tri_coords[1],\n",
    "                                    add_hinge_back=False)\n",
    "    except Exception as e:\n",
    "        print(i, e)\n",
    "    \n",
    "    "
   ]
  },
  {
   "cell_type": "code",
   "execution_count": 20,
   "metadata": {},
   "outputs": [],
   "source": [
    "def get_forward_point(tri):\n",
    "    fp_x = tri[:,2].max()\n",
    "    \n",
    "    for t in tri:\n",
    "        if t[2] == fp_x:\n",
    "            return t\n",
    "        \n",
    "def get_backward_point(tri):\n",
    "    bp_x = tri[:,0].min()\n",
    "    \n",
    "    for t in tri:\n",
    "        if t[0] == bp_x:\n",
    "            return t"
   ]
  },
  {
   "cell_type": "code",
   "execution_count": 21,
   "metadata": {},
   "outputs": [],
   "source": [
    "def detect_shared_edges(t0, t1):\n",
    "    shared_pts = [p for p in t0\n",
    "                  if p in t1]\n",
    "    if len(shared_pts) == 2:\n",
    "        return {'edge_pts': shared_pts}\n",
    "    else:\n",
    "        return None"
   ]
  },
  {
   "cell_type": "code",
   "execution_count": 22,
   "metadata": {},
   "outputs": [
    {
     "data": {
      "text/plain": [
       "{'edge_pts': [2, 1]}"
      ]
     },
     "execution_count": 22,
     "metadata": {},
     "output_type": "execute_result"
    }
   ],
   "source": [
    "detect_shared_edges(stl[0], stl[1])"
   ]
  },
  {
   "cell_type": "code",
   "execution_count": 23,
   "metadata": {},
   "outputs": [],
   "source": [
    "def make_adj_dict(tris, pts):\n",
    "    adj_dict = {(i, j+i): detect_shared_edges(t0, t1)\n",
    "                for i, t0 in enumerate(tris)\n",
    "                for j, t1 in enumerate(tris[i:])}\n",
    "    \n",
    "    adj_dict = {k: v for k, v in adj_dict.items()\n",
    "                if v is not None}\n",
    "    \n",
    "    for k, v in adj_dict.items():\n",
    "        v['coords'] = pts[v['edge_pts']]\n",
    "        \n",
    "        first = k[0]\n",
    "        tf = tris[first].tolist()\n",
    "        v['first_tri_vertex_inds'] = [tf.index(p)\n",
    "                                    for p in v['edge_pts']]\n",
    "        second = k[1]\n",
    "        ts = tris[second].tolist()\n",
    "        v['second_tri_vertex_inds'] = [ts.index(p)\n",
    "                                     for p in v['edge_pts']]\n",
    "    \n",
    "    return adj_dict"
   ]
  },
  {
   "cell_type": "code",
   "execution_count": 26,
   "metadata": {},
   "outputs": [],
   "source": [
    "p0_adj = make_adj_dict(stl, stc)"
   ]
  },
  {
   "cell_type": "code",
   "execution_count": 27,
   "metadata": {},
   "outputs": [
    {
     "data": {
      "text/plain": [
       "array([-197.,    7.,   22.])"
      ]
     },
     "execution_count": 27,
     "metadata": {},
     "output_type": "execute_result"
    }
   ],
   "source": [
    "get_forward_point(p0_adj[(0,1)]['coords'])"
   ]
  },
  {
   "cell_type": "code",
   "execution_count": 28,
   "metadata": {},
   "outputs": [
    {
     "data": {
      "text/plain": [
       "{'coords': array([[-130. ,  -15. ,    9.5],\n",
       "        [-193. ,    8. ,   18. ]]),\n",
       " 'edge_pts': [4, 3],\n",
       " 'first_tri_vertex_inds': [1, 2],\n",
       " 'second_tri_vertex_inds': [2, 0]}"
      ]
     },
     "execution_count": 28,
     "metadata": {},
     "output_type": "execute_result"
    }
   ],
   "source": [
    "p0_adj[(2,3)]"
   ]
  },
  {
   "cell_type": "markdown",
   "metadata": {},
   "source": [
    "next steps:\n",
    " 1. [x] rotate each tri to flat (z=0), arbitrary coords\n",
    " 2. [ ] connect tris along shared edges\n",
    "     a. [x] translate each tri to one matching coord from previous tri\n",
    "     b. [x] rotate second tri to share boundary with first\n",
    "     c. [ ] reflect second tri if necessary\n",
    " 3. [ ] profit"
   ]
  },
  {
   "cell_type": "code",
   "execution_count": 30,
   "metadata": {},
   "outputs": [],
   "source": [
    "rotated_tris = {k:v[:,0:2] for k,v in rotated_tris.items()}"
   ]
  },
  {
   "cell_type": "code",
   "execution_count": 31,
   "metadata": {},
   "outputs": [],
   "source": [
    "def translate_tri_coords(tri_coords, trans_vec):\n",
    "    return tri_coords - trans_vec"
   ]
  },
  {
   "cell_type": "code",
   "execution_count": 32,
   "metadata": {},
   "outputs": [
    {
     "data": {
      "text/plain": [
       "{'coords': array([[-193.,   -8.,   18.],\n",
       "        [-197.,    7.,   22.]]),\n",
       " 'edge_pts': [2, 1],\n",
       " 'first_tri_vertex_inds': [1, 2],\n",
       " 'second_tri_vertex_inds': [2, 0]}"
      ]
     },
     "execution_count": 32,
     "metadata": {},
     "output_type": "execute_result"
    }
   ],
   "source": [
    "p0_adj[(0,1)]"
   ]
  },
  {
   "cell_type": "code",
   "execution_count": 215,
   "metadata": {},
   "outputs": [],
   "source": [
    "def rotate_tri_to_match(tri_1, tri_2, first_vertex_inds, \n",
    "                        second_vertex_inds, cr=False):\n",
    "    \n",
    "    hinge = tri_1[first_vertex_inds[0]]\n",
    "    \n",
    "    #print('hinge', hinge)\n",
    "    \n",
    "    vector_1 = tri_1[first_vertex_inds[1]] - hinge\n",
    "    vector_2 = tri_2[second_vertex_inds[1]] - hinge\n",
    "    \n",
    "    vector_1 /= np.sqrt(np.sum(vector_1**2))\n",
    "    vector_2 /= np.sqrt(np.sum(vector_2**2))\n",
    "    \n",
    "    #print(vector_1, vector_2)\n",
    "    \n",
    "    #rot_angle = -np.arccos(np.clip(vector_1.dot(vector_2), -1.0, 1.0))\n",
    "    rot_angle = -np.arctan2(np.linalg.det([vector_1, vector_2]),\n",
    "                            np.dot(vector_1, vector_2))\n",
    "    \n",
    "    #print(vector_1.dot(vector_2))\n",
    "    \n",
    "    rot_mat = np.array([[np.cos(rot_angle), -np.sin(rot_angle)],\n",
    "                        [np.sin(rot_angle), np.cos(rot_angle)]])\n",
    "    \n",
    "    tri_2_rot = ((tri_2 - hinge) @ rot_mat.T) + hinge\n",
    "    \n",
    "    #plt.plot(*get_tri_xys(tri_1))\n",
    "    #plt.plot(*get_tri_xys(tri_2))\n",
    "    #plt.plot(*get_tri_xys(tri_2_rot))\n",
    "\n",
    "    if cr is True:\n",
    "        tri_2_rot = check_and_reflect(tri_1, tri_2_rot, first_vertex_inds,\n",
    "                                      second_vertex_inds)\n",
    "        \n",
    "    \n",
    "    return tri_2_rot    "
   ]
  },
  {
   "cell_type": "code",
   "execution_count": 216,
   "metadata": {},
   "outputs": [
    {
     "data": {
      "text/plain": [
       "array([[ 4.58946719e+00,  8.88463792e+00],\n",
       "       [-5.35503729e+01,  3.59910761e+01],\n",
       "       [-8.88178420e-16, -1.77635684e-15]])"
      ]
     },
     "execution_count": 216,
     "metadata": {},
     "output_type": "execute_result"
    }
   ],
   "source": [
    "rotate_tri_to_match(p1_unfold[0],\n",
    "                  p1_unfold[1],\n",
    "                  p1_adj[(0,1)]['first_tri_vertex_inds'],\n",
    "                  p1_adj[(0,1)]['second_tri_vertex_inds'])"
   ]
  },
  {
   "cell_type": "code",
   "execution_count": 217,
   "metadata": {},
   "outputs": [
    {
     "data": {
      "text/plain": [
       "array([[ 5.63618778, -1.11057974],\n",
       "       [ 4.58946719,  8.88463792],\n",
       "       [ 0.        ,  0.        ]])"
      ]
     },
     "execution_count": 217,
     "metadata": {},
     "output_type": "execute_result"
    }
   ],
   "source": [
    "p1_unfold[0]"
   ]
  },
  {
   "cell_type": "code",
   "execution_count": 176,
   "metadata": {},
   "outputs": [
    {
     "data": {
      "text/plain": [
       "array([[  4.58946719,   8.88463792],\n",
       "       [-57.67513533,  -6.5464759 ],\n",
       "       [  6.59961984,  -0.91124317]])"
      ]
     },
     "execution_count": 176,
     "metadata": {},
     "output_type": "execute_result"
    }
   ],
   "source": [
    "p1_unfold[1]"
   ]
  },
  {
   "cell_type": "code",
   "execution_count": 177,
   "metadata": {},
   "outputs": [
    {
     "data": {
      "text/plain": [
       "{'coords': array([[-193.,    8.,   18.],\n",
       "        [-193.,   14.,   26.]]),\n",
       " 'edge_pts': [1, 2],\n",
       " 'first_tri_vertex_inds': [1, 2],\n",
       " 'second_tri_vertex_inds': [0, 2]}"
      ]
     },
     "execution_count": 177,
     "metadata": {},
     "output_type": "execute_result"
    }
   ],
   "source": [
    "p1_adj[(0,1)]"
   ]
  },
  {
   "cell_type": "code",
   "execution_count": 35,
   "metadata": {},
   "outputs": [],
   "source": [
    "def get_tri_xys(tri_pts):\n",
    "    return (np.append(tri_pts[:,0], tri_pts[0,0]),\n",
    "            np.append(tri_pts[:,1], tri_pts[0,1]))"
   ]
  },
  {
   "cell_type": "code",
   "execution_count": 36,
   "metadata": {},
   "outputs": [
    {
     "data": {
      "text/plain": [
       "array([[-2.03502976e-07,  5.39618787e-07],\n",
       "       [-1.00000000e+00,  5.65685483e+00],\n",
       "       [ 1.50000000e+01,  5.65685425e+00]])"
      ]
     },
     "execution_count": 36,
     "metadata": {},
     "output_type": "execute_result"
    }
   ],
   "source": [
    "rotate_tri_to_match(trans_tris[0], trans_tris[1],\n",
    "                    p0_adj[(0,1)]['first_tri_vertex_inds'],\n",
    "                    p0_adj[(0,1)]['second_tri_vertex_inds'])"
   ]
  },
  {
   "cell_type": "code",
   "execution_count": 38,
   "metadata": {},
   "outputs": [],
   "source": [
    "def rotate_tri_num(tri_num, cr=False):\n",
    "    tri_rot = rotate_tri_to_match(trans_tris[tri_num-1],\n",
    "                                  trans_tris[tri_num],\n",
    "                                  p0_adj[(tri_num-1,tri_num)]['first_tri_vertex_inds'],\n",
    "                                  p0_adj[(tri_num-1,tri_num)]['second_tri_vertex_inds'])\n",
    "    \n",
    "    if cr is True:\n",
    "        tri_rot = check_and_reflect(trans_tris[tri_num-1],\n",
    "                                    tri_rot,\n",
    "                                   p0_adj[(tri_num-1,tri_num)]['first_tri_vertex_inds'],\n",
    "                                  p0_adj[(tri_num-1,tri_num)]['second_tri_vertex_inds'])\n",
    "        \n",
    "    return tri_rot"
   ]
  },
  {
   "cell_type": "code",
   "execution_count": 37,
   "metadata": {},
   "outputs": [],
   "source": [
    "#trans_tris[6] = check_and_reflect(trans_tris[5],\n",
    "#                  trans_tris[6],\n",
    "#                 p0_adj[(5,6)]['first_tri_vertex_inds'],\n",
    "#                 p0_adj[(5,6)]['second_tri_vertex_inds'])"
   ]
  },
  {
   "cell_type": "code",
   "execution_count": 137,
   "metadata": {},
   "outputs": [
    {
     "ename": "SyntaxError",
     "evalue": "unexpected EOF while parsing (<ipython-input-137-61f987d121d6>, line 28)",
     "output_type": "error",
     "traceback": [
      "\u001b[0;36m  File \u001b[0;32m\"<ipython-input-137-61f987d121d6>\"\u001b[0;36m, line \u001b[0;32m28\u001b[0m\n\u001b[0;31m    \u001b[0m\n\u001b[0m    ^\u001b[0m\n\u001b[0;31mSyntaxError\u001b[0m\u001b[0;31m:\u001b[0m unexpected EOF while parsing\n"
     ]
    }
   ],
   "source": [
    "trans_tris = {}\n",
    "for i, tri_pts in rotated_tris.items():\n",
    "#for i in range(6):\n",
    "#for i in [6]:\n",
    "    #print(i)\n",
    "    tri_pts = rotated_tris[i]\n",
    "    if i == 0:\n",
    "        trans_tris[i] = translate_tri_coords(tri_pts,\n",
    "                                             get_backward_point(tri_pts))\n",
    "        #trans_tris[i] = trans_tris[i] @ np.array([[np.cos(np.pi/4), np.sin(np.pi/2)],\n",
    "        #                                          [-np.sin(np.pi/2), np.cos(np.pi/2)]])\n",
    "        \n",
    "    else:\n",
    "        first_tri_match_ind = p0_adj[(i-1,i)]['first_tri_vertex_inds'][0]\n",
    "        first_tri_match_pt = trans_tris[i-1][first_tri_match_ind]\n",
    "        second_tri_match_pt = tri_pts[p0_adj[(i-1,i)]['second_tri_vertex_inds'][0]]\n",
    "        trans_tris[i] = translate_tri_coords(tri_pts, second_tri_match_pt-first_tri_match_pt)\n",
    "        \n",
    "        trans_tris[i] = rotate_tri_to_match(trans_tris[i-1], trans_tris[i],\n",
    "                                            p0_adj[(i-1,i)]['first_tri_vertex_inds'],\n",
    "                                            p0_adj[(i-1,i)]['second_tri_vertex_inds'])\n",
    "        \n",
    "        if np.all(trans_tris[i][p0_adj[(i-1,i)]['second_tri_vertex_inds']] != \n",
    "                 trans_tris[i-1][p0_adj[(i-1,i)]['first_tri_vertex_inds']]):\n",
    "            #print(i, 'not match')\n",
    "    \n",
    "        \n",
    "    "
   ]
  },
  {
   "cell_type": "code",
   "execution_count": 96,
   "metadata": {},
   "outputs": [
    {
     "data": {
      "image/png": "[encoded data removed]",
      "text/plain": [
       "<matplotlib.figure.Figure at 0x10f82d8d0>"
      ]
     },
     "metadata": {},
     "output_type": "display_data"
    }
   ],
   "source": [
    "plt.plot(*get_tri_xys(trans_tris[5]))\n",
    "plt.plot(*get_tri_xys(trans_tris[6]))\n",
    "#plt.plot(*get_tri_xys(rotate_tri_num(6, cr=False)))\n",
    "\n",
    "plt.axis('equal')\n",
    "\n",
    "plt.show()"
   ]
  },
  {
   "cell_type": "code",
   "execution_count": 39,
   "metadata": {},
   "outputs": [
    {
     "name": "stderr",
     "output_type": "stream",
     "text": [
      "/Users/itchy/src/miniconda/lib/python3.6/site-packages/ipykernel_launcher.py:12: RuntimeWarning: invalid value encountered in arccos\n",
      "  if sys.path[0] == '':\n"
     ]
    }
   ],
   "source": [
    "#trans_tris[8] = rotate_tri_num(8, cr=False)"
   ]
  },
  {
   "cell_type": "code",
   "execution_count": 99,
   "metadata": {},
   "outputs": [
    {
     "data": {
      "text/plain": [
       "(-17.750002717446762,\n",
       " 31.749999137014562,\n",
       " -19.531529506331285,\n",
       " 410.16211471557386)"
      ]
     },
     "execution_count": 99,
     "metadata": {},
     "output_type": "execute_result"
    },
    {
     "data": {
      "image/png": "[encoded data removed]",
      "text/plain": [
       "<matplotlib.figure.Figure at 0x10cb75fd0>"
      ]
     },
     "metadata": {},
     "output_type": "display_data"
    }
   ],
   "source": [
    "plt.figure(figsize=(10,10))\n",
    "\n",
    "#for i, tri_pts in trans_tris.items():\n",
    "plt.plot(*get_tri_xys(trans_tris[0]))\n",
    "for i in range(1,19):\n",
    "    tri_pts = trans_tris[i]\n",
    "    plt.plot(*get_tri_xys(tri_pts))\n",
    "    #plt.plot(*get_tri_xys(rotate_tri_num(i)))\n",
    "    \n",
    "    \n",
    "    \n",
    "\n",
    "    \n",
    "    \n",
    "#plt.plot(*get_tri_xys(rotate_tri_num(9, cr=True)))    \n",
    "    \n",
    "#plt.plot(*get_tri_xys(rotate_tri_to_match(trans_tris[6], trans_tris[7],\n",
    "#                    p0_adj[(6,7)]['first_tri_vertex_inds'],\n",
    "#                    p0_adj[(6,7)]['second_tri_vertex_inds'])))\n",
    "\n",
    "#plt.plot(*get_tri_xys(check_and_reflect(trans_tris[5],\n",
    "#                  trans_tris[6],\n",
    "#                 p0_adj[(5,6)]['first_tri_vertex_inds'],\n",
    "#                 p0_adj[(5,6)]['second_tri_vertex_inds'])))\n",
    "\n",
    "plt.axis('equal')"
   ]
  },
  {
   "cell_type": "code",
   "execution_count": null,
   "metadata": {},
   "outputs": [],
   "source": []
  },
  {
   "cell_type": "code",
   "execution_count": 412,
   "metadata": {},
   "outputs": [
    {
     "data": {
      "text/plain": [
       "dict_keys([0, 1, 2, 3, 4, 5, 6, 7, 8, 9, 10, 11, 12, 13, 14, 15, 16, 17, 18])"
      ]
     },
     "execution_count": 412,
     "metadata": {},
     "output_type": "execute_result"
    }
   ],
   "source": [
    "rotated_tris.keys()"
   ]
  },
  {
   "cell_type": "code",
   "execution_count": 123,
   "metadata": {},
   "outputs": [],
   "source": [
    "p1tc, p1tl = make_panel_tris(panels['p1r'], offsets)\n",
    "s1tc, s1tl, dup_d_1 = simplify_panel_tris(p1tc, p1tl)\n",
    "p1_adj = make_adj_dict(s1tl, s1tc)\n"
   ]
  },
  {
   "cell_type": "code",
   "execution_count": null,
   "metadata": {},
   "outputs": [],
   "source": [
    "rotated_tris = {}\n",
    "\n",
    "for i, tri in enumerate(stl):\n",
    "    tri_coords = stc[tri]\n",
    "    try:\n",
    "        rotated_tris[i] = rotate_points(tri_coords,\n",
    "                                    #hinge_pt=tri_coords[1],\n",
    "                                    add_hinge_back=False)\n",
    "    except Exception as e:\n",
    "        print(i, e)"
   ]
  },
  {
   "cell_type": "code",
   "execution_count": 113,
   "metadata": {},
   "outputs": [],
   "source": [
    "def rotate_panel_tris(tri_list, tri_coords):\n",
    "    #rtps = {rotate_points(tcs, add_hinge_back=False)}\n",
    "    rtps = {}\n",
    "    for i, tri in enumerate(tri_list):\n",
    "        tcs = tri_coords[tri]\n",
    "        try:\n",
    "            rtps[i] = rotate_points(tcs, add_hinge_back=False)[:,0:2]\n",
    "        except Exception as e:\n",
    "            print(i, e)\n",
    "    \n",
    "    return rtps\n",
    "    \n",
    "    "
   ]
  },
  {
   "cell_type": "code",
   "execution_count": 114,
   "metadata": {},
   "outputs": [],
   "source": [
    "p1_rs = rotate_panel_tris(s1tl, s1tc)"
   ]
  },
  {
   "cell_type": "code",
   "execution_count": null,
   "metadata": {},
   "outputs": [],
   "source": [
    "trans_tris = {}\n",
    "for i, tri_pts in rotated_tris.items():\n",
    "#for i in range(8,19):\n",
    "#for i in [7]:\n",
    "    tri_pts = rotated_tris[i]\n",
    "    if i == 0:\n",
    "        trans_tris[i] = translate_tri_coords(tri_pts,\n",
    "                                             get_backward_point(tri_pts))\n",
    "        #trans_tris[i] = trans_tris[i] @ np.array([[np.cos(np.pi/4), np.sin(np.pi/2)],\n",
    "        #                                          [-np.sin(np.pi/2), np.cos(np.pi/2)]])\n",
    "        \n",
    "    else:\n",
    "        first_tri_match_ind = p0_adj[(i-1,i)]['first_tri_vertex_inds'][0]\n",
    "        first_tri_match_pt = trans_tris[i-1][first_tri_match_ind]\n",
    "        second_tri_match_pt = tri_pts[p0_adj[(i-1,i)]['second_tri_vertex_inds'][0]]\n",
    "        trans_tris[i] = translate_tri_coords(tri_pts, second_tri_match_pt-first_tri_match_pt)\n",
    "        \n",
    "        trans_tris[i] = rotate_tri_to_match(trans_tris[i-1], trans_tris[i],\n",
    "                                            p0_adj[(i-1,i)]['first_tri_vertex_inds'],\n",
    "                                            p0_adj[(i-1,i)]['second_tri_vertex_inds'])"
   ]
  },
  {
   "cell_type": "code",
   "execution_count": 219,
   "metadata": {},
   "outputs": [],
   "source": [
    "def unfold_panels(rot_panel, adj_dict, cr=True):\n",
    "    unfolded_tris = {}\n",
    "    \n",
    "    for i, tri_pts in rot_panel.items():\n",
    "        if i == 0:\n",
    "            unfolded_tris[i] = translate_tri_coords(tri_pts,\n",
    "                                                    get_backward_point(tri_pts))\n",
    "        else:\n",
    "            first_tri_vertexes = adj_dict[(i-1,i)]['first_tri_vertex_inds']\n",
    "            second_tri_vertexes = adj_dict[(i-1,i)]['second_tri_vertex_inds']\n",
    "            \n",
    "            first_tri_match_pt = unfolded_tris[i-1][first_tri_vertexes[0]]\n",
    "            second_tri_match_pt = tri_pts[second_tri_vertexes[0]]\n",
    "            \n",
    "            translated_tri = translate_tri_coords(tri_pts, second_tri_match_pt-first_tri_match_pt)\n",
    "            \n",
    "            unfolded_tris[i] = rotate_tri_to_match(unfolded_tris[i-1], translated_tri,\n",
    "                                                   first_tri_vertexes,\n",
    "                                                   second_tri_vertexes, cr=cr)\n",
    "            \n",
    "    return unfolded_tris\n",
    "            "
   ]
  },
  {
   "cell_type": "code",
   "execution_count": 220,
   "metadata": {},
   "outputs": [],
   "source": [
    "p1_unfold = unfold_panels(p1_rs, p1_adj, cr=False)"
   ]
  },
  {
   "cell_type": "code",
   "execution_count": 221,
   "metadata": {},
   "outputs": [
    {
     "data": {
      "text/plain": [
       "(-388.99180301380795,\n",
       " 24.427996860809195,\n",
       " -10.111115799650968,\n",
       " 187.9006775197394)"
      ]
     },
     "execution_count": 221,
     "metadata": {},
     "output_type": "execute_result"
    },
    {
     "data": {
      "image/png": "[encoded data removed]",
      "text/plain": [
       "<matplotlib.figure.Figure at 0x11706c8d0>"
      ]
     },
     "metadata": {},
     "output_type": "display_data"
    }
   ],
   "source": [
    "plt.figure(figsize=(10,10))\n",
    "\n",
    "\n",
    "    \n",
    "for i, tri_pts in p1_unfold.items():\n",
    "    plt.plot(*get_tri_xys(tri_pts))\n",
    "    \n",
    "plt.axis('equal')"
   ]
  },
  {
   "cell_type": "code",
   "execution_count": 222,
   "metadata": {},
   "outputs": [],
   "source": [
    "p1tc, p1tl = make_panel_tris(panels['p1r'], offsets)\n",
    "s1tc, s1tl, dup_d_1 = simplify_panel_tris(p1tc, p1tl)\n",
    "p1_adj = make_adj_dict(s1tl, s1tc)"
   ]
  },
  {
   "cell_type": "code",
   "execution_count": 223,
   "metadata": {},
   "outputs": [],
   "source": [
    "def panel_unfold_all(panel, station_offsets, cr=False):\n",
    "    \n",
    "    panel_coords, panel_tris = make_panel_tris(panel, station_offsets)\n",
    "    \n",
    "    simp_panel_coords, simp_panel_tris, dup_dict = simplify_panel_tris(panel_coords,\n",
    "                                                                       panel_tris)\n",
    "    \n",
    "    adj_d = make_adj_dict(simp_panel_tris, simp_panel_coords)\n",
    "    \n",
    "    rotated_tris = rotate_panel_tris(simp_panel_tris, simp_panel_coords)\n",
    "    \n",
    "    unfolded_tris = unfold_panels(rotated_tris, adj_d, cr=cr)\n",
    "    \n",
    "    return unfolded_tris\n",
    "    "
   ]
  },
  {
   "cell_type": "code",
   "execution_count": 224,
   "metadata": {},
   "outputs": [
    {
     "name": "stdout",
     "output_type": "stream",
     "text": [
      "49 ms ± 7.07 ms per loop (mean ± std. dev. of 7 runs, 10 loops each)\n"
     ]
    }
   ],
   "source": [
    "%%timeit\n",
    "\n",
    "panel_unfold_all(panels['p2r'], offsets)"
   ]
  },
  {
   "cell_type": "code",
   "execution_count": 230,
   "metadata": {},
   "outputs": [],
   "source": [
    "p2u = panel_unfold_all(panels['p2r'], offsets)"
   ]
  },
  {
   "cell_type": "code",
   "execution_count": 238,
   "metadata": {},
   "outputs": [
    {
     "data": {
      "text/plain": [
       "(-10.879628346962749,\n",
       " 228.47219528621773,\n",
       " -57.556574906189155,\n",
       " 30.256996196899024)"
      ]
     },
     "execution_count": 238,
     "metadata": {},
     "output_type": "execute_result"
    },
    {
     "data": {
      "image/png": "[encoded data removed]",
      "text/plain": [
       "<matplotlib.figure.Figure at 0x118669b70>"
      ]
     },
     "metadata": {},
     "output_type": "display_data"
    }
   ],
   "source": [
    "plt.figure(figsize=(10,10))\n",
    "  \n",
    "for i, tri_pts in panel_unfold_all(panels['p2r'], offsets, cr=False).items():\n",
    "    plt.plot(*get_tri_xys(tri_pts))\n",
    "    \n",
    "plt.axis('equal')\n"
   ]
  },
  {
   "cell_type": "code",
   "execution_count": 163,
   "metadata": {},
   "outputs": [],
   "source": [
    "def check_and_reflect(tri_1, tri_2, first_vertex_inds, second_vertex_inds):\n",
    "    \n",
    "    plt.figure()\n",
    "    \n",
    "    plt.plot(*get_tri_xys(tri_1))\n",
    "    plt.plot(*get_tri_xys(tri_2))\n",
    "    \n",
    "    \n",
    "    hinge = tri_1[first_vertex_inds[0]]\n",
    "    \n",
    "    vector_1 = tri_1[first_vertex_inds[1]] - hinge\n",
    "    vector_1 /= np.sqrt(np.sum(vector_1**2))\n",
    "    \n",
    "    rot_angle = -np.arccos(vector_1.dot(np.array([0,1])))\n",
    "    \n",
    "    rot_mat = np.array([[np.cos(rot_angle), np.sin(rot_angle)],\n",
    "                        [-np.sin(rot_angle), np.cos(rot_angle)]])\n",
    "    \n",
    "    t1r = (tri_1-hinge) @ rot_mat.T\n",
    "    t2r = (tri_2-hinge) @ rot_mat.T\n",
    "    \n",
    "    t1_other_ind = list(set([0,1,2])-set(first_vertex_inds))[0]\n",
    "    t2_other_ind = list(set([0,1,2])-set(second_vertex_inds))[0]\n",
    "    \n",
    "    t1r_other_pt = t1r[t1_other_ind]\n",
    "    t2r_other_pt = t2r[t2_other_ind]\n",
    "    \n",
    "    if np.sign(t1r_other_pt[1]) != np.sign(t2r_other_pt[1]):\n",
    "        \n",
    "        return tri_2\n",
    "    \n",
    "    else:\n",
    "        t2r[t2_other_ind][0] *= -1\n",
    "        \n",
    "        back_rot_mat = np.array([[np.cos(-rot_angle), np.sin(-rot_angle)],\n",
    "                                 [-np.sin(-rot_angle), np.cos(-rot_angle)]])\n",
    "        \n",
    "        return (t2r @ back_rot_mat.T) + hinge"
   ]
  },
  {
   "cell_type": "code",
   "execution_count": 237,
   "metadata": {},
   "outputs": [
    {
     "data": {
      "text/plain": [
       "array([[ 4.58946719e+00,  8.88463792e+00],\n",
       "       [-5.35503729e+01,  3.59910761e+01],\n",
       "       [-8.88178420e-16, -1.77635684e-15]])"
      ]
     },
     "execution_count": 237,
     "metadata": {},
     "output_type": "execute_result"
    },
    {
     "data": {
      "image/png": "[encoded data removed]",
      "text/plain": [
       "<matplotlib.figure.Figure at 0x117197860>"
      ]
     },
     "metadata": {},
     "output_type": "display_data"
    }
   ],
   "source": [
    "check_and_reflect(p1_unfold[0],\n",
    "                  p1_unfold[1],\n",
    "                  p1_adj[(0,1)]['first_tri_vertex_inds'],\n",
    "                  p1_adj[(0,1)]['second_tri_vertex_inds'])"
   ]
  },
  {
   "cell_type": "code",
   "execution_count": 165,
   "metadata": {},
   "outputs": [
    {
     "data": {
      "text/plain": [
       "array([[ 5.63618778, -1.11057974],\n",
       "       [ 4.58946719,  8.88463792],\n",
       "       [ 0.        ,  0.        ]])"
      ]
     },
     "execution_count": 165,
     "metadata": {},
     "output_type": "execute_result"
    }
   ],
   "source": [
    "p1_unfold[0]"
   ]
  },
  {
   "cell_type": "code",
   "execution_count": 166,
   "metadata": {},
   "outputs": [
    {
     "data": {
      "text/plain": [
       "array([[  4.58946719,   8.88463792],\n",
       "       [-57.67513533,  -6.5464759 ],\n",
       "       [  6.59961984,  -0.91124317]])"
      ]
     },
     "execution_count": 166,
     "metadata": {},
     "output_type": "execute_result"
    }
   ],
   "source": [
    "p1_unfold[1]"
   ]
  },
  {
   "cell_type": "code",
   "execution_count": null,
   "metadata": {},
   "outputs": [],
   "source": []
  }
 ],
 "metadata": {
  "kernelspec": {
   "display_name": "Python 3",
   "language": "python",
   "name": "python3"
  },
  "language_info": {
   "codemirror_mode": {
    "name": "ipython",
    "version": 3
   },
   "file_extension": ".py",
   "mimetype": "text/x-python",
   "name": "python",
   "nbconvert_exporter": "python",
   "pygments_lexer": "ipython3",
   "version": "3.6.4"
  }
 },
 "nbformat": 4,
 "nbformat_minor": 2
}
